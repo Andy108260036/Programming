{
  "nbformat": 4,
  "nbformat_minor": 0,
  "metadata": {
    "colab": {
      "name": "12/26 A108260036 鄭文淵.ipynb",
      "provenance": [],
      "include_colab_link": true
    },
    "kernelspec": {
      "name": "python3",
      "display_name": "Python 3"
    }
  },
  "cells": [
    {
      "cell_type": "markdown",
      "metadata": {
        "id": "view-in-github",
        "colab_type": "text"
      },
      "source": [
        "<a href=\"https://colab.research.google.com/github/Andy108260036/Programming/blob/master/12_26_A108260036_%E9%84%AD%E6%96%87%E6%B7%B5.ipynb\" target=\"_parent\"><img src=\"https://colab.research.google.com/assets/colab-badge.svg\" alt=\"Open In Colab\"/></a>"
      ]
    },
    {
      "cell_type": "code",
      "metadata": {
        "id": "p1qBNGwUnovA",
        "colab_type": "code",
        "colab": {
          "base_uri": "https://localhost:8080/",
          "height": 85
        },
        "outputId": "f39a5ac0-ded1-449c-c623-5ee341668105"
      },
      "source": [
        "#請寫一個程式模擬密碼登入，使用者輸入密碼。\n",
        "#若密碼一致，則輸入「密碼正確」，否則輸出，「登入失敗」。\n",
        "\n",
        "answer=\"123\"\n",
        "while True:\n",
        "    password=input(\"Enter Your Password:\")\n",
        "    if password==answer:\n",
        "       print(\"Correct\")\n",
        "       break\n",
        "    else:\n",
        "       print(\"Fall,Try Again\")    "
      ],
      "execution_count": 8,
      "outputs": [
        {
          "output_type": "stream",
          "text": [
            "Enter Your Password:7777\n",
            "Fall,Try Again\n",
            "Enter Your Password:123\n",
            "Correct\n"
          ],
          "name": "stdout"
        }
      ]
    },
    {
      "cell_type": "code",
      "metadata": {
        "id": "1_etQg7Spj_l",
        "colab_type": "code",
        "colab": {
          "base_uri": "https://localhost:8080/",
          "height": 136
        },
        "outputId": "271947b4-d98b-46a7-e816-3b607648164a"
      },
      "source": [
        "#請寫一個程式模擬密碼登入，使用者輸入帳號與密碼。\n",
        "#若帳號密碼一致，則輸出「帳號與密碼正確」，否則輸出，「登入失敗」。\n",
        "answer=\"123\"\n",
        "while True:\n",
        "    acc=input(\"enter your acc:\")\n",
        "    password=input(\"enter your password:\")\n",
        "    if acc==answer:\n",
        "       print(\"correct\")\n",
        "    if password==answer:\n",
        "       break\n",
        "    else:\n",
        "       print(\"fall,try again\")   \n"
      ],
      "execution_count": 27,
      "outputs": [
        {
          "output_type": "stream",
          "text": [
            "enter your acc:123\n",
            "enter your password:456\n",
            "correct\n",
            "fall,try again\n",
            "enter your acc:123\n",
            "enter your password:123\n",
            "correct\n"
          ],
          "name": "stdout"
        }
      ]
    },
    {
      "cell_type": "code",
      "metadata": {
        "id": "DDI2dGe2sbB4",
        "colab_type": "code",
        "colab": {
          "base_uri": "https://localhost:8080/",
          "height": 51
        },
        "outputId": "76ac3d70-933e-4fb7-88ba-34fa14289624"
      },
      "source": [
        "password=\"a123456\"\n",
        "times=0\n",
        "\n",
        "while times<=3:\n",
        "    answer =input(\"enter your password:\") #另外用一個變數名字\n",
        "    if answer==password: #不要用a123456，因為密碼可以改\n",
        "       print(\"登入成功\")\n",
        "       break\n",
        "    else:\n",
        "       times=times+1\n",
        "       chance=3-times\n",
        "       print(\"密碼錯誤!還有\",chance,\"次機會\")   "
      ],
      "execution_count": 29,
      "outputs": [
        {
          "output_type": "stream",
          "text": [
            "enter your password:a123456\n",
            "登入成功\n"
          ],
          "name": "stdout"
        }
      ]
    },
    {
      "cell_type": "code",
      "metadata": {
        "id": "nCFa2fPdxIv3",
        "colab_type": "code",
        "colab": {
          "base_uri": "https://localhost:8080/",
          "height": 34
        },
        "outputId": "67f01ec7-a091-4cd3-f798-02a6c0f6ab3c"
      },
      "source": [
        "sum=0 #起始條件\n",
        "for x in range(1,11,2): #判斷條件(計數)\n",
        "    sum=sum+x #加總\n",
        "print(\"1+3+5+7+9=\",sum)    "
      ],
      "execution_count": 31,
      "outputs": [
        {
          "output_type": "stream",
          "text": [
            "1+3+5+7+9= 25\n"
          ],
          "name": "stdout"
        }
      ]
    },
    {
      "cell_type": "code",
      "metadata": {
        "id": "Vh8Z2rj83Mk8",
        "colab_type": "code",
        "colab": {
          "base_uri": "https://localhost:8080/",
          "height": 51
        },
        "outputId": "68e9f774-cd86-4820-c9b0-67e39f2017d2"
      },
      "source": [
        "n=int(input('請輸入n值?'))\n",
        "sum=0\n",
        "for x in range(1,n+1):\n",
        "    sum=sum+x*x\n",
        "print(sum)"
      ],
      "execution_count": 32,
      "outputs": [
        {
          "output_type": "stream",
          "text": [
            "請輸入n值?5\n",
            "55\n"
          ],
          "name": "stdout"
        }
      ]
    },
    {
      "cell_type": "code",
      "metadata": {
        "id": "V3pdqj_t4SwI",
        "colab_type": "code",
        "colab": {}
      },
      "source": [
        ""
      ],
      "execution_count": 0,
      "outputs": []
    }
  ]
}