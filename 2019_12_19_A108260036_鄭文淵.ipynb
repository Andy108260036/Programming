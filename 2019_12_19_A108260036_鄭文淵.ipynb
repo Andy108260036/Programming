{
  "nbformat": 4,
  "nbformat_minor": 0,
  "metadata": {
    "colab": {
      "name": "2019/12/19 A108260036 鄭文淵.ipynb",
      "provenance": [],
      "include_colab_link": true
    },
    "kernelspec": {
      "name": "python3",
      "display_name": "Python 3"
    }
  },
  "cells": [
    {
      "cell_type": "markdown",
      "metadata": {
        "id": "view-in-github",
        "colab_type": "text"
      },
      "source": [
        "<a href=\"https://colab.research.google.com/github/Andy108260036/Programming/blob/master/2019_12_19_A108260036_%E9%84%AD%E6%96%87%E6%B7%B5.ipynb\" target=\"_parent\"><img src=\"https://colab.research.google.com/assets/colab-badge.svg\" alt=\"Open In Colab\"/></a>"
      ]
    },
    {
      "cell_type": "code",
      "metadata": {
        "id": "Qz-C3Hg5mr5C",
        "colab_type": "code",
        "outputId": "f7b0a6be-e725-40ad-ca05-d76674cfb47a",
        "colab": {
          "base_uri": "https://localhost:8080/",
          "height": 221
        }
      },
      "source": [
        "x=5\n",
        "if x<10:\n",
        "   print(\"x is less then 10\")\n",
        "\n",
        "x=5 #初始值\n",
        "while x<10: #判斷條件\n",
        "   print(\"x is less then 10\")\n",
        "   print(\"I am still here\")\n",
        "   x=x+1 #更新條件\n",
        "print(\"Finished\")"
      ],
      "execution_count": 0,
      "outputs": [
        {
          "output_type": "stream",
          "text": [
            "x is less then 10\n",
            "x is less then 10\n",
            "I am still here\n",
            "x is less then 10\n",
            "I am still here\n",
            "x is less then 10\n",
            "I am still here\n",
            "x is less then 10\n",
            "I am still here\n",
            "x is less then 10\n",
            "I am still here\n",
            "Finished\n"
          ],
          "name": "stdout"
        }
      ]
    },
    {
      "cell_type": "code",
      "metadata": {
        "id": "tvF8L8vjvfd1",
        "colab_type": "code",
        "outputId": "6edf0acc-314d-4211-e4ec-e8a9c8a34d71",
        "colab": {
          "base_uri": "https://localhost:8080/",
          "height": 131
        }
      },
      "source": [
        "\n",
        "x=1 #初始值\n",
        "while x<5 #判斷條件\n",
        "  print(\"變數x是\",x)\n",
        "  x=x+1 #更新條件\n",
        "print(\"Finished\")\n"
      ],
      "execution_count": 0,
      "outputs": [
        {
          "output_type": "error",
          "ename": "SyntaxError",
          "evalue": "ignored",
          "traceback": [
            "\u001b[0;36m  File \u001b[0;32m\"<ipython-input-11-c077b50ab60b>\"\u001b[0;36m, line \u001b[0;32m3\u001b[0m\n\u001b[0;31m    while x<5 #判斷條件\u001b[0m\n\u001b[0m                   ^\u001b[0m\n\u001b[0;31mSyntaxError\u001b[0m\u001b[0;31m:\u001b[0m invalid syntax\n"
          ]
        }
      ]
    },
    {
      "cell_type": "code",
      "metadata": {
        "id": "6dFv-31HmuIg",
        "colab_type": "code",
        "outputId": "5b581f0b-aca2-4a92-b89f-8127c472d39b",
        "colab": {
          "base_uri": "https://localhost:8080/",
          "height": 204
        }
      },
      "source": [
        "#印10次Hello\n",
        "x=0 #初始值\n",
        "while x<10: #判斷條件\n",
        "  x=x+1 #更新條件\n",
        "  print(\"This is\",x,\"times Hello\")\n",
        "print(\"Finished\")  "
      ],
      "execution_count": 0,
      "outputs": [
        {
          "output_type": "stream",
          "text": [
            "This is 1 times Hello\n",
            "This is 2 times Hello\n",
            "This is 3 times Hello\n",
            "This is 4 times Hello\n",
            "This is 5 times Hello\n",
            "This is 6 times Hello\n",
            "This is 7 times Hello\n",
            "This is 8 times Hello\n",
            "This is 9 times Hello\n",
            "This is 10 times Hello\n",
            "Finished\n"
          ],
          "name": "stdout"
        }
      ]
    },
    {
      "cell_type": "code",
      "metadata": {
        "id": "jPvLpbvDvvBs",
        "colab_type": "code",
        "outputId": "697416f6-82b6-4868-fddb-a9869365b3e2",
        "colab": {
          "base_uri": "https://localhost:8080/",
          "height": 204
        }
      },
      "source": [
        "#1到10之和\n",
        "x=0 #初始值\n",
        "sum=0 #初始值\n",
        "\n",
        "while x<10: #判斷條件\n",
        "  x=x+1 #更新條件\n",
        "  sum=sum+x #更新條件\n",
        "  print(\"Sum is\",sum)\n",
        "print(\"Finished\")  "
      ],
      "execution_count": 0,
      "outputs": [
        {
          "output_type": "stream",
          "text": [
            "Sum is 1\n",
            "Sum is 3\n",
            "Sum is 6\n",
            "Sum is 10\n",
            "Sum is 15\n",
            "Sum is 21\n",
            "Sum is 28\n",
            "Sum is 36\n",
            "Sum is 45\n",
            "Sum is 55\n",
            "Finished\n"
          ],
          "name": "stdout"
        }
      ]
    },
    {
      "cell_type": "code",
      "metadata": {
        "id": "5enYBXRcv-Ot",
        "colab_type": "code",
        "outputId": "b5a4981e-ebd8-4389-9ab3-77e8c79bc614",
        "colab": {
          "base_uri": "https://localhost:8080/",
          "height": 374
        }
      },
      "source": [
        "#1到x之和>50\n",
        "x=0 #初始值\n",
        "sum=0 #初始值\n",
        "\n",
        "while sum<=50: #判斷條件\n",
        "  x=x+1 #更新條件\n",
        "  sum=sum+x #更新條件\n",
        "  print(\"X is\",x)\n",
        "  print(\"Sum is\",sum)\n",
        "print(\"finished\")"
      ],
      "execution_count": 26,
      "outputs": [
        {
          "output_type": "stream",
          "text": [
            "X is 1\n",
            "Sum is 1\n",
            "X is 2\n",
            "Sum is 3\n",
            "X is 3\n",
            "Sum is 6\n",
            "X is 4\n",
            "Sum is 10\n",
            "X is 5\n",
            "Sum is 15\n",
            "X is 6\n",
            "Sum is 21\n",
            "X is 7\n",
            "Sum is 28\n",
            "X is 8\n",
            "Sum is 36\n",
            "X is 9\n",
            "Sum is 45\n",
            "X is 10\n",
            "Sum is 55\n",
            "finished\n"
          ],
          "name": "stdout"
        }
      ]
    },
    {
      "cell_type": "code",
      "metadata": {
        "id": "3dvK_BKoyEjE",
        "colab_type": "code",
        "outputId": "b40ed76b-4480-4e95-f76b-d5974817bf0f",
        "colab": {
          "base_uri": "https://localhost:8080/",
          "height": 102
        }
      },
      "source": [
        "#1到9奇數之和\n",
        "sum=0 \n",
        "x=1\n",
        "while x<11:\n",
        "  sum=sum+x\n",
        "  x=x+2\n",
        "  print(\"1+3+5+7+9=\",sum)"
      ],
      "execution_count": 40,
      "outputs": [
        {
          "output_type": "stream",
          "text": [
            "1+3+5+7+9= 1\n",
            "1+3+5+7+9= 4\n",
            "1+3+5+7+9= 9\n",
            "1+3+5+7+9= 16\n",
            "1+3+5+7+9= 25\n"
          ],
          "name": "stdout"
        }
      ]
    },
    {
      "cell_type": "code",
      "metadata": {
        "id": "vEges1M9yyUX",
        "colab_type": "code",
        "colab": {
          "base_uri": "https://localhost:8080/",
          "height": 34
        },
        "outputId": "44566cc4-48cd-459c-b696-e867bcb85f50"
      },
      "source": [
        "#求大於1000最小平方和的x\n",
        "sum=0\n",
        "x=0\n",
        "while sum<=1000:\n",
        "  x+=1\n",
        "  sum+=x*x\n",
        "print(\"最小的n值為\",x) "
      ],
      "execution_count": 36,
      "outputs": [
        {
          "output_type": "stream",
          "text": [
            "最小的n值為 14\n"
          ],
          "name": "stdout"
        }
      ]
    },
    {
      "cell_type": "code",
      "metadata": {
        "id": "MAtVQOce2Tbl",
        "colab_type": "code",
        "colab": {}
      },
      "source": [
        ""
      ],
      "execution_count": 0,
      "outputs": []
    }
  ]
}