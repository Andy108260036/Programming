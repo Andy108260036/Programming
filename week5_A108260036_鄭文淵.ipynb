{
  "nbformat": 4,
  "nbformat_minor": 0,
  "metadata": {
    "colab": {
      "name": "week5 A108260036 鄭文淵.ipynb",
      "provenance": [],
      "include_colab_link": true
    },
    "kernelspec": {
      "name": "python3",
      "display_name": "Python 3"
    }
  },
  "cells": [
    {
      "cell_type": "markdown",
      "metadata": {
        "id": "view-in-github",
        "colab_type": "text"
      },
      "source": [
        "<a href=\"https://colab.research.google.com/github/Andy108260036/Programming/blob/master/week5_A108260036_%E9%84%AD%E6%96%87%E6%B7%B5.ipynb\" target=\"_parent\"><img src=\"https://colab.research.google.com/assets/colab-badge.svg\" alt=\"Open In Colab\"/></a>"
      ]
    },
    {
      "cell_type": "code",
      "metadata": {
        "id": "atKcID9XZNUA",
        "colab_type": "code",
        "colab": {
          "base_uri": "https://localhost:8080/",
          "height": 119
        },
        "outputId": "fc5d160b-885a-4550-e8ea-4a2d1f99bd30"
      },
      "source": [
        "name = input('請問貴姓大名?')\n",
        "print('你好,', name)\n",
        "y = int(input('請問年紀?'))\n",
        "print('原來你', y,'歲')\n",
        "w = float(input('請問體重?'))\n",
        "print('體重為', w)"
      ],
      "execution_count": 1,
      "outputs": [
        {
          "output_type": "stream",
          "text": [
            "請問貴姓大名?鄭文淵\n",
            "你好, 鄭文淵\n",
            "請問年紀?18\n",
            "原來你 18 歲\n",
            "請問體重?69\n",
            "體重為 69.0\n"
          ],
          "name": "stdout"
        }
      ]
    },
    {
      "cell_type": "code",
      "metadata": {
        "id": "pX1QjKrMZWXH",
        "colab_type": "code",
        "colab": {
          "base_uri": "https://localhost:8080/",
          "height": 85
        },
        "outputId": "a32d6341-11f1-45d8-c065-01c9aa8a8150"
      },
      "source": [
        "上衣 = int(input('請輸入上衣數量?'))\n",
        "褲子 = int(input('請輸入褲子數量?'))\n",
        "背心 = int(input('請輸入背心數量?'))\n",
        "總金額 = 上衣*300 + 褲子*350 + 背心*400\n",
        "print('訂購服裝的總金額為', 總金額)"
      ],
      "execution_count": 2,
      "outputs": [
        {
          "output_type": "stream",
          "text": [
            "請輸入上衣數量?20\n",
            "請輸入褲子數量?30\n",
            "請輸入背心數量?40\n",
            "訂購服裝的總金額為 32500\n"
          ],
          "name": "stdout"
        }
      ]
    },
    {
      "cell_type": "code",
      "metadata": {
        "id": "4sqGX_MGZpG0",
        "colab_type": "code",
        "colab": {
          "base_uri": "https://localhost:8080/",
          "height": 51
        },
        "outputId": "cdf96a9d-3221-4af7-b477-794d60498ff5"
      },
      "source": [
        "半徑=float(input('請輸入半徑?'))\n",
        "PI=3.14159\n",
        "圓周長=2*PI*半徑\n",
        "圓面積=半徑*半徑*PI\n",
        "print('圓周長為',圓周長,'圓面積為',圓面積)"
      ],
      "execution_count": 3,
      "outputs": [
        {
          "output_type": "stream",
          "text": [
            "請輸入半徑?5\n",
            "圓周長為 31.4159 圓面積為 78.53975\n"
          ],
          "name": "stdout"
        }
      ]
    },
    {
      "cell_type": "code",
      "metadata": {
        "id": "60YNXERLbKeY",
        "colab_type": "code",
        "colab": {
          "base_uri": "https://localhost:8080/",
          "height": 51
        },
        "outputId": "bd971601-205f-429f-dc11-26deb1ba7a41"
      },
      "source": [
        "c=float(input('請輸入攝氏溫度?'))\n",
        "f=c*9/5+32\n",
        "print('華氏溫度為',f)"
      ],
      "execution_count": 4,
      "outputs": [
        {
          "output_type": "stream",
          "text": [
            "請輸入攝氏溫度?70\n",
            "華氏溫度為 158.0\n"
          ],
          "name": "stdout"
        }
      ]
    },
    {
      "cell_type": "code",
      "metadata": {
        "id": "Z8QROCn4b1BE",
        "colab_type": "code",
        "colab": {
          "base_uri": "https://localhost:8080/",
          "height": 102
        },
        "outputId": "bc01192c-b7ad-45ea-e3de-ea16b120ac9c"
      },
      "source": [
        "money=int(input('請輸入本金?'))\n",
        "interest=float(input('請輸入年利率(%)?'))\n",
        "y1=money*(1+interest/100)\n",
        "y2=money*((1+interest/100)**2)\n",
        "y3=money*((1+interest/100)**3)\n",
        "print('第一年本利和為',y1)\n",
        "print('第二年本利和為',y2)\n",
        "print('第三年本利和為',y3)"
      ],
      "execution_count": 5,
      "outputs": [
        {
          "output_type": "stream",
          "text": [
            "請輸入本金?100\n",
            "請輸入年利率(%)?50\n",
            "第一年本利和為 150.0\n",
            "第二年本利和為 225.0\n",
            "第三年本利和為 337.5\n"
          ],
          "name": "stdout"
        }
      ]
    },
    {
      "cell_type": "code",
      "metadata": {
        "id": "2dqk-fLIgFpE",
        "colab_type": "code",
        "colab": {
          "base_uri": "https://localhost:8080/",
          "height": 51
        },
        "outputId": "46457f07-e607-420b-b165-a097649d02c0"
      },
      "source": [
        "s=input('請輸入一個字串?')\n",
        "print('迴文判斷結果為',s==s[::-1])\n"
      ],
      "execution_count": 6,
      "outputs": [
        {
          "output_type": "stream",
          "text": [
            "請輸入一個字串?abcdeffedcba\n",
            "迴文判斷結果為 True\n"
          ],
          "name": "stdout"
        }
      ]
    },
    {
      "cell_type": "code",
      "metadata": {
        "id": "Rh4XZZ_dhZ3c",
        "colab_type": "code",
        "colab": {
          "base_uri": "https://localhost:8080/",
          "height": 85
        },
        "outputId": "a8b12f29-32b8-4c35-9dbe-26eca4bb1774"
      },
      "source": [
        "minutes_to_convert = 123\n",
        "\n",
        "hours_decimal = minutes_to_convert/60 \n",
        "hours_part = int(hours_decimal) \n",
        "\n",
        "minutes_decimal = hours_decimal-hours_part \n",
        "minutes_part = round(minutes_decimal*60) \n",
        "\n",
        "print(\"Hours\")\n",
        "print(hours_part)\n",
        "print(\"Minutes\")\n",
        "print(minutes_part)"
      ],
      "execution_count": 10,
      "outputs": [
        {
          "output_type": "stream",
          "text": [
            "Hours\n",
            "2\n",
            "Minutes\n",
            "3\n"
          ],
          "name": "stdout"
        }
      ]
    },
    {
      "cell_type": "code",
      "metadata": {
        "id": "vLH2plxrjJeZ",
        "colab_type": "code",
        "colab": {
          "base_uri": "https://localhost:8080/",
          "height": 85
        },
        "outputId": "d22f9146-a602-4697-acbd-cd954983a0f7"
      },
      "source": [
        "minutes_to_convert=123\n",
        "\n",
        "hours_decimal=minutes_to_convert/60\n",
        "hours_part=int(hours_decimal)\n",
        "\n",
        "minutes_part=minutes_to_convert%60\n",
        "\n",
        "print(\"Hours\")\n",
        "print(hours_part)\n",
        "print('Minutes')\n",
        "print(minutes_part)"
      ],
      "execution_count": 11,
      "outputs": [
        {
          "output_type": "stream",
          "text": [
            "Hours\n",
            "2\n",
            "Minutes\n",
            "3\n"
          ],
          "name": "stdout"
        }
      ]
    },
    {
      "cell_type": "code",
      "metadata": {
        "id": "H-X9Nb1tlVV2",
        "colab_type": "code",
        "colab": {}
      },
      "source": [
        ""
      ],
      "execution_count": 0,
      "outputs": []
    }
  ]
}