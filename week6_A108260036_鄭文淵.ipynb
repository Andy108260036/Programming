{
  "nbformat": 4,
  "nbformat_minor": 0,
  "metadata": {
    "colab": {
      "name": "week6-A108260036-鄭文淵.ipynb",
      "provenance": [],
      "include_colab_link": true
    },
    "kernelspec": {
      "name": "python3",
      "display_name": "Python 3"
    }
  },
  "cells": [
    {
      "cell_type": "markdown",
      "metadata": {
        "id": "view-in-github",
        "colab_type": "text"
      },
      "source": [
        "<a href=\"https://colab.research.google.com/github/Andy108260036/Programming/blob/master/week6_A108260036_%E9%84%AD%E6%96%87%E6%B7%B5.ipynb\" target=\"_parent\"><img src=\"https://colab.research.google.com/assets/colab-badge.svg\" alt=\"Open In Colab\"/></a>"
      ]
    },
    {
      "cell_type": "code",
      "metadata": {
        "id": "HPr5YomHG2qb",
        "colab_type": "code",
        "outputId": "d0ac1c48-fcab-4d82-8257-a7332b36fd08",
        "colab": {
          "base_uri": "https://localhost:8080/",
          "height": 85
        }
      },
      "source": [
        "a = int(input('請輸入第一次期中考成績?'))\n",
        "b = int(input('請輸入第二次期中考成績?'))\n",
        "c = int(input('請輸入期末考成績?'))\n",
        "總分 = a+b+c\n",
        "平均 = 總分/3\n",
        "print('總分為',總分,'平均為',平均)"
      ],
      "execution_count": 0,
      "outputs": [
        {
          "output_type": "stream",
          "text": [
            "請輸入第一次期中考成績?75\n",
            "請輸入第二次期中考成績?80\n",
            "請輸入期末考成績?65\n",
            "總分為 220 平均為 73.33333333333333\n"
          ],
          "name": "stdout"
        }
      ]
    },
    {
      "cell_type": "code",
      "metadata": {
        "id": "Y1pWqRIpWrcA",
        "colab_type": "code",
        "outputId": "a4f94c5f-8a2d-4971-e230-e4f87339a7cd",
        "colab": {
          "base_uri": "https://localhost:8080/",
          "height": 68
        }
      },
      "source": [
        "a = int(input('請輸入幾尺?'))\n",
        "b = int(input('請輸入幾吋?'))\n",
        "轉換成 = (a*12+b)*2.54 \n",
        "print('轉換成',轉換成,'公分')"
      ],
      "execution_count": 0,
      "outputs": [
        {
          "output_type": "stream",
          "text": [
            "請輸入幾尺?5\n",
            "請輸入幾吋?8\n",
            "轉換成 172.72 公分\n"
          ],
          "name": "stdout"
        }
      ]
    },
    {
      "cell_type": "code",
      "metadata": {
        "id": "Pc5l192waFm8",
        "colab_type": "code",
        "colab": {
          "base_uri": "https://localhost:8080/",
          "height": 85
        },
        "outputId": "877d4902-ac5c-481e-82f9-95a793a44420"
      },
      "source": [
        "座號=int(input(\"輸入座號\"))\n",
        "print(\"計算結果顯示如下\")\n",
        "分組=座號/5\n",
        "四捨五入=分組+1\n",
        "分組為=int(四捨五入)\n",
        "print('分組')\n",
        "print(分組為)"
      ],
      "execution_count": 1,
      "outputs": [
        {
          "output_type": "stream",
          "text": [
            "輸入座號19\n",
            "計算結果顯示如下\n",
            "分組\n",
            "4\n"
          ],
          "name": "stdout"
        }
      ]
    },
    {
      "cell_type": "code",
      "metadata": {
        "id": "m4bMeTxDOxWP",
        "colab_type": "code",
        "colab": {
          "base_uri": "https://localhost:8080/",
          "height": 51
        },
        "outputId": "3900fe02-4662-4f76-f29c-668214fa067e"
      },
      "source": [
        "幾罐=float(input('輸入購買飲料的罐數'))\n",
        "幾打=幾罐/12\n",
        "剩餘=int(幾打)\n",
        "幾打的價格=(幾打-剩餘)*200 #2.5-2\n",
        "剩餘的價格=剩餘*200\n",
        "總共=幾打的價格+剩餘的價格\n",
        "print('需花費',總共)"
      ],
      "execution_count": 2,
      "outputs": [
        {
          "output_type": "stream",
          "text": [
            "輸入購買飲料的罐數30\n",
            "需花費 500.0\n"
          ],
          "name": "stdout"
        }
      ]
    },
    {
      "cell_type": "code",
      "metadata": {
        "id": "0ulCIQzhP2Tm",
        "colab_type": "code",
        "colab": {}
      },
      "source": [
        ""
      ],
      "execution_count": 0,
      "outputs": []
    }
  ]
}