{
  "nbformat": 4,
  "nbformat_minor": 0,
  "metadata": {
    "colab": {
      "name": "week8 A108260036  鄭文淵.ipynb",
      "provenance": [],
      "include_colab_link": true
    },
    "kernelspec": {
      "name": "python3",
      "display_name": "Python 3"
    }
  },
  "cells": [
    {
      "cell_type": "markdown",
      "metadata": {
        "id": "view-in-github",
        "colab_type": "text"
      },
      "source": [
        "<a href=\"https://colab.research.google.com/github/Andy108260036/Programming/blob/master/week8_A108260036_%E9%84%AD%E6%96%87%E6%B7%B5.ipynb\" target=\"_parent\"><img src=\"https://colab.research.google.com/assets/colab-badge.svg\" alt=\"Open In Colab\"/></a>"
      ]
    },
    {
      "cell_type": "code",
      "metadata": {
        "id": "xxXyNBKLhEXZ",
        "colab_type": "code",
        "outputId": "1ba9111b-3611-4b84-ae20-01057816d348",
        "colab": {
          "base_uri": "https://localhost:8080/",
          "height": 119
        }
      },
      "source": [
        "print(\"Welcome to the Mashup Game!\")\n",
        "name1 = input(\"Enter one full name (FIRST LAST): \")\n",
        "name2 = input(\"Enter another full name (FIRST LAST): \")\n",
        "space = name1.find(\" \")\n",
        "name1_first = name1[0:space]\n",
        "name1_last = name1[space+1:len(name1)]\n",
        "space = name2.find(\" \")\n",
        "name2_first = name2[0:space]\n",
        "name2_last = name2[space+1:len(name2)]\n",
        "len_name1_first = len(name1_first)\n",
        "len_name2_first = len(name2_first)\n",
        "len_name1_last = len(name1_last)\n",
        "len_name2_last = len(name2_last)\n",
        "index_name1_first = int(len_name1_first/2)\n",
        "index_name2_first = int(len_name2_first/2)\n",
        "index_name1_last = int(len_name1_last/2)\n",
        "index_name2_last = int(len_name2_last/2)\n",
        "lefthalf_name1_first = name1_first[0:index_name1_first]\n",
        "righthalf_name1_first = name1_first[index_name1_first:len_name1_first]\n",
        "lefthalf_name2_first = name2_first[0:index_name2_first]\n",
        "righthalf_name2_first = name2_first[index_name2_first:len_name2_first]\n",
        "lefthalf_name1_last = name1_last[0:index_name1_last]\n",
        "righthalf_name1_last = name1_last[index_name1_last:len_name1_last]\n",
        "lefthalf_name2_last = name2_last[0:index_name2_last]\n",
        "righthalf_name2_last = name2_last[index_name2_last:len_name2_last]\n",
        "newname1_first = lefthalf_name1_first.capitalize() + righthalf_name1_first.lower()\n",
        "#B\n",
        "newname1_last = lefthalf_name1_last.capitalize() + righthalf_name2_last.lower()\n",
        "newname2_first = lefthalf_name2_first.capitalize() + righthalf_name1_first.lower()\n",
        "newname2_last = lefthalf_name2_last.capitalize() + righthalf_name1_last.lower()\n",
        "print(\"All done! Here are two possibilities, pick the one you like best!\")\n",
        "print(newname1_first, newname1_last)\n",
        "print(newname2_first, newname2_last)"
      ],
      "execution_count": 0,
      "outputs": [
        {
          "output_type": "stream",
          "text": [
            "Welcome to the Mashup Game!\n",
            "Enter one full name (FIRST LAST): Andy\n",
            "Enter another full name (FIRST LAST): OZI\n",
            "All done! Here are two possibilities, pick the one you like best!\n",
            "And Anzi\n",
            "Ond Ody\n"
          ],
          "name": "stdout"
        }
      ]
    },
    {
      "cell_type": "code",
      "metadata": {
        "id": "u6qUHwd8ltxr",
        "colab_type": "code",
        "outputId": "5a9953ca-7251-43be-ac4a-2943624cbfd2",
        "colab": {
          "base_uri": "https://localhost:8080/",
          "height": 51
        }
      },
      "source": [
        "s=input('請輸入一個字串?')\n",
        "print('迴文判斷結果為',s==s[::-1])"
      ],
      "execution_count": 0,
      "outputs": [
        {
          "output_type": "stream",
          "text": [
            "請輸入一個字串?abcdefggfedcba\n",
            "迴文判斷結果為 True\n"
          ],
          "name": "stdout"
        }
      ]
    },
    {
      "cell_type": "code",
      "metadata": {
        "id": "IY8WcDpEmzq_",
        "colab_type": "code",
        "outputId": "72edf130-1f27-4be9-a2e6-b812484acf24",
        "colab": {
          "base_uri": "https://localhost:8080/",
          "height": 136
        }
      },
      "source": [
        "代辦事項=[]\n",
        "\n",
        "工作=input('請輸入代辦事項?')\n",
        "代辦事項.append(工作)\n",
        "工作=input('請輸入代辦事項?')\n",
        "代辦事項.append(工作)\n",
        "工作=input('請輸入代辦事項?')\n",
        "代辦事項.append(工作)\n",
        "工作=input('請輸入代辦事項?')\n",
        "代辦事項.append(工作)\n",
        "工作=input('請輸入代辦事項?')\n",
        "代辦事項.append(工作)\n",
        "\n",
        "print(代辦事項.pop(0),代辦事項.pop(0),代辦事項)\n",
        "print(代辦事項.pop(0),代辦事項)"
      ],
      "execution_count": 0,
      "outputs": [
        {
          "output_type": "stream",
          "text": [
            "請輸入代辦事項?打球\n",
            "請輸入代辦事項?閱讀\n",
            "請輸入代辦事項?吃飯\n",
            "請輸入代辦事項?運動\n",
            "請輸入代辦事項?寫程式\n",
            "打球 閱讀 ['吃飯', '運動', '寫程式']\n",
            "吃飯 ['運動', '寫程式']\n"
          ],
          "name": "stdout"
        }
      ]
    },
    {
      "cell_type": "code",
      "metadata": {
        "id": "8RHpUBnopHGk",
        "colab_type": "code",
        "outputId": "6d959894-3aaa-4463-a079-11c4b6f0217f",
        "colab": {
          "base_uri": "https://localhost:8080/",
          "height": 85
        }
      },
      "source": [
        "字典={'dog':'狗','fish':'魚','cat':'貓','pig':'豬'}\n",
        "print(字典.keys())\n",
        "print(字典)\n",
        "英文=input('請輸入一個英文單字?')\n",
        "print(字典.get(英文,'字典找不到該單字'))"
      ],
      "execution_count": 0,
      "outputs": [
        {
          "output_type": "stream",
          "text": [
            "dict_keys(['dog', 'fish', 'cat', 'pig'])\n",
            "{'dog': '狗', 'fish': '魚', 'cat': '貓', 'pig': '豬'}\n",
            "請輸入一個英文單字?dog\n",
            "狗\n"
          ],
          "name": "stdout"
        }
      ]
    },
    {
      "cell_type": "code",
      "metadata": {
        "id": "_jjN_B4erEgP",
        "colab_type": "code",
        "outputId": "c24865fd-8409-4c0d-fbe6-38f12ff80237",
        "colab": {
          "base_uri": "https://localhost:8080/",
          "height": 54
        }
      },
      "source": [
        "詩='春眠不覺曉，處處聞啼鳥。夜來風雨聲，花落知多少。'\n",
        "字=set(詩)\n",
        "字.remove('，')\n",
        "字.remove('。')\n",
        "print(字)"
      ],
      "execution_count": 0,
      "outputs": [
        {
          "output_type": "stream",
          "text": [
            "{'風', '少', '知', '落', '曉', '聲', '處', '花', '覺', '來', '鳥', '春', '聞', '夜', '不', '啼', '多', '雨', '眠'}\n"
          ],
          "name": "stdout"
        }
      ]
    },
    {
      "cell_type": "code",
      "metadata": {
        "id": "RkQ-94HVr2kO",
        "colab_type": "code",
        "outputId": "3905c05f-489e-4865-a99c-56fd964876f4",
        "colab": {
          "base_uri": "https://localhost:8080/",
          "height": 71
        }
      },
      "source": [
        "星期=['Sunday','Monday','Tuesday','Wednesday','Thursday','Saturday']\n",
        "月份=['January','February','March','April','May','June','July','August','Septmber','October','November','December']\n",
        "dic={'week':星期,'month':月份}\n",
        "print(dic['month'])\n",
        "print(dic['month'][7])"
      ],
      "execution_count": 0,
      "outputs": [
        {
          "output_type": "stream",
          "text": [
            "['January', 'February', 'March', 'April', 'May', 'June', 'July', 'August', 'Septmber', 'October', 'November', 'December']\n",
            "August\n"
          ],
          "name": "stdout"
        }
      ]
    },
    {
      "cell_type": "code",
      "metadata": {
        "id": "l8bj8Gbpu2Fi",
        "colab_type": "code",
        "outputId": "a10fac1e-dfcd-4768-9b43-72ece4846dbd",
        "colab": {
          "base_uri": "https://localhost:8080/",
          "height": 85
        }
      },
      "source": [
        "s=input('請輸入一行英文句子?')\n",
        "words=s.split(' ')\n",
        "print('將英文句子以空白字元切割後，獲得單字為',words)\n",
        "s2=' '.join(words)\n",
        "print('以空白字元結合所有單字後，獲得句子為',s2)\n",
        "s3=s.title()\n",
        "print('將每個單字自首轉大寫後，獲得句子為',s3)"
      ],
      "execution_count": 0,
      "outputs": [
        {
          "output_type": "stream",
          "text": [
            "請輸入一行英文句子?an apple a day keeps the doctor away\n",
            "將英文句子以空白字元切割後，獲得單字為 ['an', 'apple', 'a', 'day', 'keeps', 'the', 'doctor', 'away']\n",
            "以空白字元結合所有單字後，獲得句子為 an apple a day keeps the doctor away\n",
            "將每個單字自首轉大寫後，獲得句子為 An Apple A Day Keeps The Doctor Away\n"
          ],
          "name": "stdout"
        }
      ]
    },
    {
      "cell_type": "code",
      "metadata": {
        "id": "GPRsVqvWUh3G",
        "colab_type": "code",
        "outputId": "8c37b026-c70d-4353-c9a6-f93d8409103b",
        "colab": {
          "base_uri": "https://localhost:8080/",
          "height": 51
        }
      },
      "source": [
        "s=input('請輸入一行英文句子?')\n",
        "s.strip(' .')\n",
        "words=s.split(' ')\n",
        "print(words[::-1])"
      ],
      "execution_count": 0,
      "outputs": [
        {
          "output_type": "stream",
          "text": [
            "請輸入一行英文句子?an apple a day keeps the doctor away\n",
            "['away', 'doctor', 'the', 'keeps', 'day', 'a', 'apple', 'an']\n"
          ],
          "name": "stdout"
        }
      ]
    },
    {
      "cell_type": "code",
      "metadata": {
        "id": "OgiP4Rc7VK9e",
        "colab_type": "code",
        "colab": {
          "base_uri": "https://localhost:8080/",
          "height": 68
        },
        "outputId": "3e960893-46fb-42ec-8e56-f78893e388c9"
      },
      "source": [
        "全班學生=set(['John','Mary','Tina','Fiona','Claire','Eva','Ben','Bill','Bert'])\n",
        "英文及格=set(['John','Mary','Fiona','Claire','Ben','Bill'])\n",
        "數學及格=set(['Mary','Fiona','Claire','Eva','Ben'])\n",
        "print('英文與數學都及格',英文及格&數學及格)\n",
        "print('數學不及格',全班學生-數學及格)\n",
        "print('英文及格與數學及格',英文及格&(全班學生-數學及格))"
      ],
      "execution_count": 2,
      "outputs": [
        {
          "output_type": "stream",
          "text": [
            "英文與數學都及格 {'Fiona', 'Ben', 'Claire', 'Mary'}\n",
            "數學不及格 {'John', 'Bert', 'Bill', 'Tina'}\n",
            "英文及格與數學及格 {'John', 'Bill'}\n"
          ],
          "name": "stdout"
        }
      ]
    },
    {
      "cell_type": "code",
      "metadata": {
        "id": "008q0_4lVYc1",
        "colab_type": "code",
        "colab": {
          "base_uri": "https://localhost:8080/",
          "height": 34
        },
        "outputId": "fd582749-d3af-437d-85c8-21c7d0c8bc0d"
      },
      "source": [
        "p1='紅豆生南國，春來發幾枝?願君多采擷，此物最相思。'\n",
        "p2='春眠不覺曉，處處聞啼鳥。夜來風雨聲，花落知多少。'\n",
        "s1=set(p1)\n",
        "s1.remove('，')\n",
        "s1.remove('。')\n",
        "s1.remove('?')\n",
        "s2=set(p2)\n",
        "s2.remove('，')\n",
        "s2.remove('。')\n",
        "print(s1&s2)"
      ],
      "execution_count": 4,
      "outputs": [
        {
          "output_type": "stream",
          "text": [
            "{'多', '來', '春'}\n"
          ],
          "name": "stdout"
        }
      ]
    },
    {
      "cell_type": "code",
      "metadata": {
        "id": "bJ41mgVbWQpb",
        "colab_type": "code",
        "colab": {
          "base_uri": "https://localhost:8080/",
          "height": 153
        },
        "outputId": "63a162cf-5a85-4069-8675-2556404e3f30"
      },
      "source": [
        "mail = dict()\n",
        "name = input('請輸入姓名?')\n",
        "email = input('請輸入電子郵件?')\n",
        "mail[name]=email\n",
        "name = input('請輸入姓名?')\n",
        "email = input('請輸入電子郵件?')\n",
        "mail[name]=email\n",
        "name = input('請輸入姓名?')\n",
        "email = input('請輸入電子郵件?')\n",
        "mail[name]=email\n",
        "name = input('請輸入要查詢電子郵件的姓名?')\n",
        "print(mail[name])"
      ],
      "execution_count": 6,
      "outputs": [
        {
          "output_type": "stream",
          "text": [
            "請輸入姓名?John\n",
            "請輸入電子郵件?John@xxx.tw\n",
            "請輸入姓名?Claire\n",
            "請輸入電子郵件?Claire@xxx.tw\n",
            "請輸入姓名?Fiona\n",
            "請輸入電子郵件?Fiona@xxx.tw\n",
            "請輸入要查詢電子郵件的姓名?Claire\n",
            "Claire@xxx.tw\n"
          ],
          "name": "stdout"
        }
      ]
    },
    {
      "cell_type": "code",
      "metadata": {
        "id": "WD6vqWsMWtNr",
        "colab_type": "code",
        "colab": {}
      },
      "source": [
        ""
      ],
      "execution_count": 0,
      "outputs": []
    }
  ]
}